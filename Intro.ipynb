{
  "nbformat": 4,
  "nbformat_minor": 0,
  "metadata": {
    "colab": {
      "provenance": []
    },
    "kernelspec": {
      "name": "python3",
      "display_name": "Python 3"
    },
    "language_info": {
      "name": "python"
    }
  },
  "cells": [
    {
      "cell_type": "markdown",
      "source": [
        "<h1><center> Introduction au Cours LOG6308 </center></h1>"
      ],
      "metadata": {
        "id": "EmV4Dmu7ORyB"
      }
    },
    {
      "cell_type": "code",
      "execution_count": null,
      "metadata": {
        "colab": {
          "base_uri": "https://localhost:8080/"
        },
        "id": "o--QkPUpOO1J",
        "outputId": "61e51e6c-a707-4fe3-ddec-d9115e13a808"
      },
      "outputs": [
        {
          "output_type": "stream",
          "name": "stdout",
          "text": [
            "Python 3.8.16\n"
          ]
        }
      ],
      "source": [
        "# Checking python version\n",
        "!python -V"
      ]
    },
    {
      "cell_type": "code",
      "source": [
        "# Installing required libraries\n",
        "!pip install numpy matplotlib seaborn scipy pandas networkx"
      ],
      "metadata": {
        "colab": {
          "base_uri": "https://localhost:8080/"
        },
        "id": "34FSRTMzO1YI",
        "outputId": "530cabaf-8c46-4b2d-ce4a-550b634e09b4"
      },
      "execution_count": null,
      "outputs": [
        {
          "output_type": "stream",
          "name": "stdout",
          "text": [
            "Looking in indexes: https://pypi.org/simple, https://us-python.pkg.dev/colab-wheels/public/simple/\n",
            "Requirement already satisfied: numpy in /usr/local/lib/python3.8/dist-packages (1.21.6)\n",
            "Requirement already satisfied: matplotlib in /usr/local/lib/python3.8/dist-packages (3.2.2)\n",
            "Requirement already satisfied: seaborn in /usr/local/lib/python3.8/dist-packages (0.11.2)\n",
            "Requirement already satisfied: scipy in /usr/local/lib/python3.8/dist-packages (1.7.3)\n",
            "Requirement already satisfied: pandas in /usr/local/lib/python3.8/dist-packages (1.3.5)\n",
            "Requirement already satisfied: networkx in /usr/local/lib/python3.8/dist-packages (2.8.8)\n",
            "Requirement already satisfied: pyparsing!=2.0.4,!=2.1.2,!=2.1.6,>=2.0.1 in /usr/local/lib/python3.8/dist-packages (from matplotlib) (3.0.9)\n",
            "Requirement already satisfied: python-dateutil>=2.1 in /usr/local/lib/python3.8/dist-packages (from matplotlib) (2.8.2)\n",
            "Requirement already satisfied: kiwisolver>=1.0.1 in /usr/local/lib/python3.8/dist-packages (from matplotlib) (1.4.4)\n",
            "Requirement already satisfied: cycler>=0.10 in /usr/local/lib/python3.8/dist-packages (from matplotlib) (0.11.0)\n",
            "Requirement already satisfied: pytz>=2017.3 in /usr/local/lib/python3.8/dist-packages (from pandas) (2022.7)\n",
            "Requirement already satisfied: six>=1.5 in /usr/local/lib/python3.8/dist-packages (from python-dateutil>=2.1->matplotlib) (1.15.0)\n"
          ]
        }
      ]
    },
    {
      "cell_type": "code",
      "source": [
        "import numpy as np\n",
        "import pandas as pd\n",
        "import networkx as nx\n",
        "import seaborn as sns"
      ],
      "metadata": {
        "id": "7qgDgNBoaqFI"
      },
      "execution_count": null,
      "outputs": []
    },
    {
      "cell_type": "markdown",
      "source": [
        "## Partie 1 : Opérations Matricielle avec Numpy\n",
        "\n",
        "Lien vers le cheat sheet assez utile [ici](https://www.datacamp.com/cheat-sheet/numpy-cheat-sheet-data-analysis-in-python)."
      ],
      "metadata": {
        "id": "K1TQB2sca34D"
      }
    },
    {
      "cell_type": "markdown",
      "source": [
        "### Initialisation des matrices de manière aléatoire"
      ],
      "metadata": {
        "id": "Pspm2SCpbWrm"
      }
    },
    {
      "cell_type": "code",
      "source": [
        "# Matrice de 3 vecteurs de dimension 5\n",
        "A = np.random.random((3,5))\n",
        "A"
      ],
      "metadata": {
        "colab": {
          "base_uri": "https://localhost:8080/"
        },
        "id": "yaLA9Lf1a3M8",
        "outputId": "85f01b14-8c6f-434d-c1e0-75a025201cec"
      },
      "execution_count": null,
      "outputs": [
        {
          "output_type": "execute_result",
          "data": {
            "text/plain": [
              "array([[0.38225681, 0.11669295, 0.57522369, 0.04216331, 0.68109137],\n",
              "       [0.48439657, 0.82007101, 0.55488693, 0.22757616, 0.0806068 ],\n",
              "       [0.71431571, 0.2868266 , 0.45155779, 0.84136128, 0.96746685]])"
            ]
          },
          "metadata": {},
          "execution_count": 5
        }
      ]
    },
    {
      "cell_type": "code",
      "source": [
        "# Matrice de 20 vecteurs de dimension 20\n",
        "B = np.random.random((20,5))\n",
        "B"
      ],
      "metadata": {
        "colab": {
          "base_uri": "https://localhost:8080/"
        },
        "id": "-O1cfevbbUAY",
        "outputId": "09453b62-4e4e-4e50-af9a-389b13b1141d"
      },
      "execution_count": null,
      "outputs": [
        {
          "output_type": "execute_result",
          "data": {
            "text/plain": [
              "array([[0.93316216, 0.56220957, 0.01783614, 0.74064528, 0.04716197],\n",
              "       [0.83622722, 0.28284591, 0.69272155, 0.46668521, 0.47593888],\n",
              "       [0.7072161 , 0.41927663, 0.67836499, 0.12118896, 0.97386206],\n",
              "       [0.17791121, 0.68371721, 0.84800593, 0.34045103, 0.75926879],\n",
              "       [0.13084736, 0.7995167 , 0.64296227, 0.16672737, 0.00156431],\n",
              "       [0.31992673, 0.54050771, 0.74107898, 0.65437781, 0.4382779 ],\n",
              "       [0.36257622, 0.98451196, 0.6881257 , 0.15637323, 0.5909757 ],\n",
              "       [0.07479488, 0.15804344, 0.00712728, 0.68900072, 0.15277481],\n",
              "       [0.38019831, 0.76454004, 0.34724341, 0.67553985, 0.98012789],\n",
              "       [0.75910253, 0.88452333, 0.34011919, 0.65214003, 0.15704608],\n",
              "       [0.95267155, 0.03829496, 0.97726489, 0.84353662, 0.68541422],\n",
              "       [0.61445175, 0.50507063, 0.25965299, 0.05796103, 0.56637744],\n",
              "       [0.15838581, 0.11894305, 0.78131856, 0.51240978, 0.58335342],\n",
              "       [0.27052284, 0.10242136, 0.86394548, 0.46684248, 0.99653344],\n",
              "       [0.1050299 , 0.87347634, 0.13271896, 0.38460992, 0.21913214],\n",
              "       [0.70353091, 0.64085057, 0.84640584, 0.94902929, 0.1475723 ],\n",
              "       [0.67417149, 0.95814652, 0.27855917, 0.42627675, 0.0158013 ],\n",
              "       [0.00242247, 0.56327842, 0.75700897, 0.64121189, 0.49850234],\n",
              "       [0.03558893, 0.86294851, 0.91811824, 0.35060201, 0.45251863],\n",
              "       [0.04557007, 0.81912262, 0.99400018, 0.75003527, 0.80926334]])"
            ]
          },
          "metadata": {},
          "execution_count": 7
        }
      ]
    },
    {
      "cell_type": "code",
      "source": [
        "# Matrice de 20 vecteurs de dimension 20\n",
        "C = np.random.random((20,5))\n",
        "C"
      ],
      "metadata": {
        "colab": {
          "base_uri": "https://localhost:8080/"
        },
        "id": "Q26SuOuXdCJb",
        "outputId": "8f6255a5-f25a-487d-ecb6-6d7e0ad216bb"
      },
      "execution_count": null,
      "outputs": [
        {
          "output_type": "execute_result",
          "data": {
            "text/plain": [
              "array([[0.74140921, 0.03842689, 0.53378939, 0.84350036, 0.47769561],\n",
              "       [0.43546391, 0.8859156 , 0.19779652, 0.46125756, 0.36551369],\n",
              "       [0.00740917, 0.87438024, 0.96343136, 0.64410492, 0.14112905],\n",
              "       [0.49854194, 0.59803094, 0.24845379, 0.20007138, 0.5122796 ],\n",
              "       [0.65626123, 0.02646745, 0.33550615, 0.8853473 , 0.60249712],\n",
              "       [0.92889916, 0.39440388, 0.97079226, 0.95747903, 0.34600855],\n",
              "       [0.46566635, 0.57373596, 0.0674924 , 0.6965924 , 0.49112386],\n",
              "       [0.45093447, 0.30775669, 0.90395889, 0.04252545, 0.93004187],\n",
              "       [0.67407703, 0.6241549 , 0.3141075 , 0.4538095 , 0.00194328],\n",
              "       [0.1915815 , 0.85573593, 0.04980814, 0.34810493, 0.41744366],\n",
              "       [0.3147754 , 0.45264923, 0.69028124, 0.90164931, 0.00992197],\n",
              "       [0.21979394, 0.29889114, 0.35208875, 0.11041266, 0.35334564],\n",
              "       [0.90053405, 0.73776577, 0.1743833 , 0.91434313, 0.55276104],\n",
              "       [0.56991801, 0.05239055, 0.35016937, 0.60655539, 0.08577768],\n",
              "       [0.0845592 , 0.60633632, 0.32222467, 0.63525596, 0.19842188],\n",
              "       [0.55018857, 0.85555401, 0.19216574, 0.24021799, 0.61297619],\n",
              "       [0.86705172, 0.82179245, 0.05942423, 0.78935266, 0.53401717],\n",
              "       [0.722176  , 0.52925711, 0.00972328, 0.47715011, 0.94496013],\n",
              "       [0.14685957, 0.64582415, 0.21833086, 0.49207528, 0.75537045],\n",
              "       [0.60737813, 0.57314087, 0.2979939 , 0.59568427, 0.66937826]])"
            ]
          },
          "metadata": {},
          "execution_count": 9
        }
      ]
    },
    {
      "cell_type": "markdown",
      "source": [
        "### Opérations de base"
      ],
      "metadata": {
        "id": "7ZLT7vn5bcIw"
      }
    },
    {
      "cell_type": "code",
      "source": [
        "print(B - C)#Soustraction terme à terme\n",
        "print(B + C)#Addition \n",
        "print(B / C)#Division terme à terme\n",
        "print(B * C)#Multiplication terme à terme\n",
        "print(A.dot(B.T))#Produit Matricielle de A et B transposée\n",
        "print(np.exp(A)) #Exponentiation\n",
        "print(np.sqrt(A))#Racine carré des eléments terme à terme\n",
        "print(np.cos(A))\n",
        "print(np.sin(A))\n",
        "print(np.log(A))"
      ],
      "metadata": {
        "colab": {
          "base_uri": "https://localhost:8080/"
        },
        "id": "nBOj87SIbVGv",
        "outputId": "15a97e06-11a5-4e33-a161-8593dbc57fc8"
      },
      "execution_count": null,
      "outputs": [
        {
          "output_type": "stream",
          "name": "stdout",
          "text": [
            "[[ 0.19175296  0.52378268 -0.51595324 -0.10285508 -0.43053364]\n",
            " [ 0.40076331 -0.60306969  0.49492503  0.00542766  0.11042519]\n",
            " [ 0.69980693 -0.45510362 -0.28506637 -0.52291595  0.83273301]\n",
            " [-0.32063074  0.08568627  0.59955214  0.14037965  0.24698919]\n",
            " [-0.52541387  0.77304926  0.30745612 -0.71861992 -0.60093281]\n",
            " [-0.60897242  0.14610383 -0.22971328 -0.30310122  0.09226936]\n",
            " [-0.10309013  0.41077599  0.6206333  -0.54021918  0.09985185]\n",
            " [-0.37613959 -0.14971325 -0.89683162  0.64647528 -0.77726705]\n",
            " [-0.29387872  0.14038514  0.03313591  0.22173035  0.97818461]\n",
            " [ 0.56752103  0.0287874   0.29031106  0.30403509 -0.26039758]\n",
            " [ 0.63789615 -0.41435427  0.28698365 -0.05811269  0.67549225]\n",
            " [ 0.39465781  0.20617949 -0.09243576 -0.05245163  0.2130318 ]\n",
            " [-0.74214823 -0.61882273  0.60693526 -0.40193335  0.03059237]\n",
            " [-0.29939517  0.05003081  0.51377611 -0.13971291  0.91075576]\n",
            " [ 0.02047071  0.26714001 -0.18950571 -0.25064604  0.02071026]\n",
            " [ 0.15334233 -0.21470344  0.6542401   0.7088113  -0.46540389]\n",
            " [-0.19288022  0.13635407  0.21913494 -0.36307591 -0.51821586]\n",
            " [-0.71975352  0.03402131  0.74728569  0.16406178 -0.44645778]\n",
            " [-0.11127064  0.21712435  0.69978738 -0.14147327 -0.30285182]\n",
            " [-0.56180806  0.24598175  0.69600627  0.15435099  0.13988508]]\n",
            "[[1.67457137 0.60063646 0.55162553 1.58414565 0.52485758]\n",
            " [1.27169113 1.1687615  0.89051807 0.92794277 0.84145257]\n",
            " [0.71462527 1.29365687 1.64179635 0.76529388 1.1149911 ]\n",
            " [0.67645315 1.28174814 1.09645972 0.5405224  1.27154839]\n",
            " [0.78710858 0.82598415 0.97846842 1.05207467 0.60406143]\n",
            " [1.24882589 0.9349116  1.71187123 1.61185685 0.78428645]\n",
            " [0.82824257 1.55824792 0.7556181  0.85296563 1.08209956]\n",
            " [0.52572935 0.46580013 0.91108617 0.73152617 1.08281668]\n",
            " [1.05427535 1.38869493 0.6613509  1.12934935 0.98207117]\n",
            " [0.95068402 1.74025927 0.38992733 1.00024496 0.57448973]\n",
            " [1.26744696 0.49094418 1.66754613 1.74518593 0.6953362 ]\n",
            " [0.83424569 0.80396177 0.61174174 0.16837369 0.91972308]\n",
            " [1.05891986 0.85670882 0.95570186 1.42675291 1.13611446]\n",
            " [0.84044085 0.15481191 1.21411486 1.07339787 1.08231113]\n",
            " [0.1895891  1.47981266 0.45494364 1.01986588 0.41755403]\n",
            " [1.25371948 1.49640458 1.03857158 1.18924728 0.76054849]\n",
            " [1.54122321 1.77993896 0.3379834  1.21562941 0.54981847]\n",
            " [0.72459847 1.09253554 0.76673225 1.118362   1.44346247]\n",
            " [0.1824485  1.50877266 1.1364491  0.8426773  1.20788908]\n",
            " [0.6529482  1.39226349 1.29199408 1.34571954 1.47864161]]\n",
            "[[1.25863309e+00 1.46306275e+01 3.34141973e-02 8.78061603e-01\n",
            "  9.87280826e-02]\n",
            " [1.92031348e+00 3.19269587e-01 3.50219287e+00 1.01176708e+00\n",
            "  1.30210959e+00]\n",
            " [9.54514552e+01 4.79512925e-01 7.04113464e-01 1.88150969e-01\n",
            "  6.90050763e+00]\n",
            " [3.56863066e-01 1.14328067e+00 3.41313342e+00 1.70164784e+00\n",
            "  1.48213747e+00]\n",
            " [1.99383035e-01 3.02075494e+01 1.91639489e+00 1.88318609e-01\n",
            "  2.59638207e-03]\n",
            " [3.44414927e-01 1.37044217e+00 7.63375448e-01 6.83438269e-01\n",
            "  1.26666785e+00]\n",
            " [7.78618038e-01 1.71596696e+00 1.01956029e+01 2.24483106e-01\n",
            "  1.20331296e+00]\n",
            " [1.65866409e-01 5.13533716e-01 7.88451452e-03 1.62020813e+01\n",
            "  1.64266598e-01]\n",
            " [5.64027993e-01 1.22492034e+00 1.10549226e+00 1.48859785e+00\n",
            "  5.04367389e+02]\n",
            " [3.96229564e+00 1.03364052e+00 6.82858703e+00 1.87340070e+00\n",
            "  3.76209037e-01]\n",
            " [3.02651206e+00 8.46018359e-02 1.41574888e+00 9.35548457e-01\n",
            "  6.90804403e+01]\n",
            " [2.79558089e+00 1.68981466e+00 7.37464598e-01 5.24949130e-01\n",
            "  1.60289918e+00]\n",
            " [1.75879873e-01 1.61220610e-01 4.48046665e+00 5.60413006e-01\n",
            "  1.05534466e+00]\n",
            " [4.74669746e-01 1.95495857e+00 2.46722171e+00 7.69661742e-01\n",
            "  1.16176305e+01]\n",
            " [1.24208728e+00 1.44058059e+00 4.11883307e-01 6.05440864e-01\n",
            "  1.10437486e+00]\n",
            " [1.27870869e+00 7.49047472e-01 4.40456159e+00 3.95070036e+00\n",
            "  2.40747196e-01]\n",
            " [7.77544729e-01 1.16592275e+00 4.68763644e+00 5.40033336e-01\n",
            "  2.95895032e-02]\n",
            " [3.35441005e-03 1.06428125e+00 7.78553045e+01 1.34383682e+00\n",
            "  5.27537966e-01]\n",
            " [2.42333082e-01 1.33619733e+00 4.20516939e+00 7.12496692e-01\n",
            "  5.99068485e-01]\n",
            " [7.50275110e-02 1.42918202e+00 3.33563930e+00 1.25911544e+00\n",
            "  1.20897762e+00]]\n",
            "[[0.69185502 0.02160397 0.00952074 0.62473457 0.02252907]\n",
            " [0.36414678 0.2505776  0.13701791 0.21526208 0.17396217]\n",
            " [0.00523988 0.3666072  0.65355811 0.07805841 0.13744022]\n",
            " [0.0886962  0.40888404 0.21069028 0.06811451 0.38895791]\n",
            " [0.08587005 0.02116117 0.21571779 0.14761163 0.00094249]\n",
            " [0.29717967 0.21317834 0.71943373 0.62655304 0.1516479 ]\n",
            " [0.16883954 0.56484992 0.04644325 0.1089284  0.29024227]\n",
            " [0.03372759 0.04863893 0.00644277 0.02930006 0.14208697]\n",
            " [0.25628295 0.47719141 0.10907176 0.3065664  0.00190466]\n",
            " [0.14543    0.7569184  0.0169407  0.22701316 0.06555789]\n",
            " [0.29987757 0.01733418 0.67458762 0.76057421 0.00680066]\n",
            " [0.13505277 0.15096114 0.0914209  0.00639963 0.200127  ]\n",
            " [0.14263182 0.08775211 0.13624891 0.46851836 0.32245504]\n",
            " [0.15417584 0.00536591 0.30252725 0.28316582 0.08548033]\n",
            " [0.00888124 0.52962043 0.04276533 0.24432574 0.04348061]\n",
            " [0.38707466 0.54828227 0.1626502  0.22797391 0.09045831]\n",
            " [0.58454155 0.78739757 0.01655316 0.33648269 0.00843817]\n",
            " [0.00174945 0.29811911 0.00736061 0.30595432 0.47106484]\n",
            " [0.00522658 0.55731299 0.20045354 0.17252258 0.3418192 ]\n",
            " [0.02767826 0.46947265 0.29620599 0.44678421 0.54170329]]\n",
            "[[0.49592293 1.09496437 1.37787518 1.16707181 0.5212576  0.93775183\n",
            "  1.0584107  0.18423735 1.1303321  0.72349348 1.43317586 0.83137371\n",
            "  0.94277869 1.31073691 0.38388546 0.97110935 0.55848479 0.86866738\n",
            "  0.96541656 1.26758401]\n",
            " [1.09532415 1.16597179 1.16890514 1.2561044  1.1138831  1.19369012\n",
            "  1.44805582 0.33890689 1.23656644 1.4428768  1.2823648  0.91475457\n",
            "  0.77144125 0.88099477 0.94602435 1.56386224 1.3651675  1.06926334\n",
            "  1.35063476 1.48129268]\n",
            " [1.50466101 1.84436775 1.97589922 1.72712643 0.75491498 1.69278817\n",
            "  1.55542241 0.82947969 2.16428682 1.65014939 2.50561844 1.29774612\n",
            "  1.49556083 1.96963346 0.92109001 2.00980513 1.25611875 1.52690229\n",
            "  1.4203015  2.13033219]]\n",
            "[[1.46558841 1.12377433 1.77752809 1.04306481 1.97603314]\n",
            " [1.62319522 2.27066107 1.74174403 1.25555306 1.0839446 ]\n",
            " [2.04278835 1.33219319 1.5707572  2.31952234 2.6312706 ]]\n",
            "[[0.6182692  0.3416035  0.75843503 0.20533707 0.8252826 ]\n",
            " [0.69598604 0.90557772 0.74490733 0.47704944 0.28391336]\n",
            " [0.845172   0.53556195 0.6719805  0.91725748 0.98359893]]\n",
            "[[0.92782518 0.9931991  0.83907063 0.99911126 0.77688601]\n",
            " [0.88495611 0.68216929 0.84996002 0.97421611 0.99675303]\n",
            " [0.75554169 0.95914649 0.89976842 0.66644854 0.56738728]]\n",
            "[[0.37301534 0.11642829 0.54402249 0.04215082 0.62964127]\n",
            " [0.46567443 0.73119427 0.5268472  0.22561685 0.08051954]\n",
            " [0.65510056 0.2829099  0.43636772 0.74555103 0.82345108]]\n",
            "[[-0.96166263 -2.14820912 -0.55299629 -3.16620477 -0.38405881]\n",
            " [-0.72485136 -0.19836435 -0.58899092 -1.48027031 -2.51817228]\n",
            " [-0.33643024 -1.24887743 -0.79505191 -0.17273413 -0.03307412]]\n"
          ]
        }
      ]
    },
    {
      "cell_type": "markdown",
      "source": [
        "### Similarité cosinus entre des vecteurs contenus dans des matrices\n",
        "Soit $\\mathbf{X}, \\mathbf{Y} \\in \\mathbb{R}^n$ deux vecteurs de dimension $n \\in \\mathbb{N}$. On définit la similarité cosinus entre ces deux vecteurs ainsi : \n",
        "$$\\text{CosineSimilarity(X, Y)}=\\cos(\\theta )={\\mathbf {X} \\cdot \\mathbf {Y}  \\over \\|\\mathbf {X} \\|_2\\|\\mathbf {Y} \\|_2}={\\frac {\\sum \\limits _{i=1}^{n}{X_{i}Y_{i}}}{{\\sqrt {\\sum \\limits _{i=1}^{n}{X_{i}^{2}}}}{\\sqrt {\\sum \\limits _{i=1}^{n}{Y_{i}^{2}}}}}}$$"
      ],
      "metadata": {
        "id": "Kr5BT86ycmHd"
      }
    },
    {
      "cell_type": "code",
      "source": [
        "# Pour un élément de A et de B on obtient la similarité cosinus suivante \n",
        "np.dot(A[0], B[0]) / (np.linalg.norm(A[0]) * np.linalg.norm(B[0]))"
      ],
      "metadata": {
        "colab": {
          "base_uri": "https://localhost:8080/"
        },
        "id": "cVxlmKrXcqdc",
        "outputId": "4b6bab1f-46d5-4afd-cf93-593b44ae32c2"
      },
      "execution_count": null,
      "outputs": [
        {
          "output_type": "execute_result",
          "data": {
            "text/plain": [
              "0.3846803058088937"
            ]
          },
          "metadata": {},
          "execution_count": 11
        }
      ]
    },
    {
      "cell_type": "markdown",
      "source": [
        "En utilisant simplement les opérations matricielles, calculer la similarité cosinus entre tous les vecteurs de A et de B. Vous pouvez vous aider des élements déjà présents dans la cellule et de la documentation de [np.expand_dims](https://numpy.org/doc/stable/reference/generated/numpy.expand_dims.html). Assurez vous que le résultat obtenu correspond au résultat précédent 😉."
      ],
      "metadata": {
        "id": "nG9fLXgcgtoO"
      }
    },
    {
      "cell_type": "code",
      "source": [
        "# Matrice colonne des normes de chacuns des vecteurs de A\n",
        "col_norm_A = np.linalg.norm(A, axis=-1)[:, None]\n",
        "\n",
        "# Matrice ligne des normes de chacuns des vecteurs de B\n",
        "col_norm_B = np.expand_dims(np.linalg.norm(B, axis=-1), axis=0)\n",
        "\n",
        "print(col_norm_A.shape)\n",
        "print(col_norm_B.shape)\n",
        "print(np.dot(A, B.T))"
      ],
      "metadata": {
        "colab": {
          "base_uri": "https://localhost:8080/"
        },
        "id": "U_SCY8SGg7Ds",
        "outputId": "be373566-6cd6-433c-bdcd-c09d2bc8da62"
      },
      "execution_count": null,
      "outputs": [
        {
          "output_type": "stream",
          "name": "stdout",
          "text": [
            "(3, 1)\n",
            "(1, 20)\n",
            "[[0.49592293 1.09496437 1.37787518 1.16707181 0.5212576  0.93775183\n",
            "  1.0584107  0.18423735 1.1303321  0.72349348 1.43317586 0.83137371\n",
            "  0.94277869 1.31073691 0.38388546 0.97110935 0.55848479 0.86866738\n",
            "  0.96541656 1.26758401]\n",
            " [1.09532415 1.16597179 1.16890514 1.2561044  1.1138831  1.19369012\n",
            "  1.44805582 0.33890689 1.23656644 1.4428768  1.2823648  0.91475457\n",
            "  0.77144125 0.88099477 0.94602435 1.56386224 1.3651675  1.06926334\n",
            "  1.35063476 1.48129268]\n",
            " [1.50466101 1.84436775 1.97589922 1.72712643 0.75491498 1.69278817\n",
            "  1.55542241 0.82947969 2.16428682 1.65014939 2.50561844 1.29774612\n",
            "  1.49556083 1.96963346 0.92109001 2.00980513 1.25611875 1.52690229\n",
            "  1.4203015  2.13033219]]\n"
          ]
        }
      ]
    },
    {
      "cell_type": "markdown",
      "source": [
        "## Partie 2 : Validation Croisée"
      ],
      "metadata": {
        "id": "ollBlZAtiXtF"
      }
    },
    {
      "cell_type": "markdown",
      "source": [
        "Comment battre aléatoirement les données sans faire plusieurs copies de notre base de données."
      ],
      "metadata": {
        "id": "mPA6oxPjlCpB"
      }
    },
    {
      "cell_type": "code",
      "source": [
        "# C est notre matrice de données 20x5\n",
        "C\n",
        "\n",
        "# Création d'une liste d'indice d'éléments dans C\n",
        "idx = np.arange(C.shape[0])\n",
        "print(idx)\n",
        "\n",
        "# Mélange des indices sans modifier idx\n",
        "shuffled_idx = idx[np.random.permutation(len(idx))]\n",
        "print(shuffled_idx)\n",
        "\n",
        "# Mélange des indices en modifiant idx\n",
        "np.random.shuffle(idx)\n",
        "print(idx)"
      ],
      "metadata": {
        "colab": {
          "base_uri": "https://localhost:8080/"
        },
        "id": "JNbofdlKivo5",
        "outputId": "2688ad58-fc12-439e-c127-2ff521bb7c2b"
      },
      "execution_count": null,
      "outputs": [
        {
          "output_type": "stream",
          "name": "stdout",
          "text": [
            "[ 0  1  2  3  4  5  6  7  8  9 10 11 12 13 14 15 16 17 18 19]\n",
            "[11  6  9  0 17 14  1  2 10 12  8 19  3  5  4  7 18 13 15 16]\n",
            "[14  9  6 15 19  4 18 10 12 11  5 13  7  1  8  3 17 16  0  2]\n"
          ]
        }
      ]
    },
    {
      "cell_type": "code",
      "source": [
        "# Séparation de nos données en ensemble d'entrainement et de test\n",
        "\n",
        "nbre_replis = 3\n",
        "test_size   = int(len(C) / nbre_replis)\n",
        "train_size  = len(C) - test_size\n",
        "\n",
        "shuffled_idx = np.random.permutation(len(C))\n",
        "idx_train = shuffled_idx[:train_size]\n",
        "idx_test = shuffled_idx[train_size:]\n",
        "\n",
        "C_train = C[idx_train]\n",
        "C_test = C[idx_test]\n",
        "print(C_train.shape, \"\\n\", C_test.shape)"
      ],
      "metadata": {
        "colab": {
          "base_uri": "https://localhost:8080/"
        },
        "id": "z32xai1sj1dg",
        "outputId": "1e7c1d68-acd5-4fd5-c70e-aedffc5c1ef7"
      },
      "execution_count": null,
      "outputs": [
        {
          "output_type": "stream",
          "name": "stdout",
          "text": [
            "(14, 5) \n",
            " (6, 5)\n"
          ]
        }
      ]
    },
    {
      "cell_type": "markdown",
      "source": [
        "Calculer la moyenne de l'ensemble d'entrainement en effectuant une Leave-one-out validation croisée à 5 replis. "
      ],
      "metadata": {
        "id": "gwtbSc6unT9m"
      }
    },
    {
      "cell_type": "code",
      "source": [
        "nbre_replis = 5\n",
        "\n",
        "for i in range(nbre_replis):\n",
        "    continue"
      ],
      "metadata": {
        "id": "-jRdEd1NnaBL"
      },
      "execution_count": null,
      "outputs": []
    },
    {
      "cell_type": "markdown",
      "source": [
        "## Partie 3 : Networkx \n",
        "En vous inspirant de l'introduction de NetworkX accessible [ici](https://networkx.org/documentation/stable/tutorial.html) : \n",
        "- créer un graph non orienté\n",
        "- ajouter lui des sommets et des arrêtes\n",
        "- calculer le nombre de composantes connexes\n",
        "- afficher la matrice d'adjacence\n",
        "- calculer le plus court chemin entre deux points de votre graphe\n",
        "- enfin, afficher votre graphe"
      ],
      "metadata": {
        "id": "4X2B9eVQn2yI"
      }
    },
    {
      "cell_type": "code",
      "source": [],
      "metadata": {
        "id": "RrhvzC2DpBhy"
      },
      "execution_count": null,
      "outputs": []
    },
    {
      "cell_type": "markdown",
      "source": [
        "## Partie 4 : Seaborn\n",
        "Vous pouvez afficher des données avec Seaborn assez facilement en quelques ligne ! C'est une librairie qui se base sur matplotlib et qui est super esthétique. Voici un [lien](https://seaborn.pydata.org/tutorial/introduction.html) vers une introduction à seaborn qui est bien faite. Et voici des exemples d'utilisations multiples de seaborn que vous trouverez [ici](https://seaborn.pydata.org/examples/index.html)."
      ],
      "metadata": {
        "id": "J2oPAw8HBnWW"
      }
    },
    {
      "cell_type": "code",
      "source": [
        "## Un example d'utilisation sur la base de données `Anscombe`\n",
        "sns.set_theme(style=\"ticks\")\n",
        "\n",
        "# Load the example dataset for Anscombe's quartet\n",
        "df = sns.load_dataset(\"anscombe\")\n",
        "\n",
        "# Show the results of a linear regression within each dataset\n",
        "sns.lmplot(\n",
        "    data=df, x=\"x\", y=\"y\", col=\"dataset\", hue=\"dataset\",\n",
        "    col_wrap=2, palette=\"muted\", ci=None,\n",
        "    height=4, scatter_kws={\"s\": 50, \"alpha\": 1}\n",
        ")"
      ],
      "metadata": {
        "colab": {
          "base_uri": "https://localhost:8080/",
          "height": 598
        },
        "id": "CC8wYUmTBplv",
        "outputId": "4ee6a7a3-79c0-46e9-a443-fa5206aee125"
      },
      "execution_count": null,
      "outputs": [
        {
          "output_type": "execute_result",
          "data": {
            "text/plain": [
              "<seaborn.axisgrid.FacetGrid at 0x7efe4f8d4eb0>"
            ]
          },
          "metadata": {},
          "execution_count": 31
        },
        {
          "output_type": "display_data",
          "data": {
            "text/plain": [
              "<Figure size 576x576 with 4 Axes>"
            ],
            "image/png": "[encoded data removed]"
          },
          "metadata": {}
        }
      ]
    }
  ]
}