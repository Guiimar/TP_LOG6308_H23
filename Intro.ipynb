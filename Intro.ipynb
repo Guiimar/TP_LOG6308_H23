{
  "nbformat": 4,
  "nbformat_minor": 0,
  "metadata": {
    "colab": {
      "provenance": []
    },
    "kernelspec": {
      "name": "python3",
      "display_name": "Python 3"
    },
    "language_info": {
      "name": "python"
    }
  },
  "cells": [
    {
      "cell_type": "markdown",
      "source": [
        "<h1><center> Introduction au Cours LOG6308 </center></h1>"
      ],
      "metadata": {
        "id": "EmV4Dmu7ORyB"
      }
    },
    {
      "cell_type": "code",
      "execution_count": null,
      "metadata": {
        "colab": {
          "base_uri": "https://localhost:8080/"
        },
        "id": "o--QkPUpOO1J",
        "outputId": "31d13bb9-31c4-4920-d640-366189a71922"
      },
      "outputs": [
        {
          "output_type": "stream",
          "name": "stdout",
          "text": [
            "Python 3.8.10\n"
          ]
        }
      ],
      "source": [
        "# Checking python version\n",
        "!python -V"
      ]
    },
    {
      "cell_type": "code",
      "source": [
        "# Installing required libraries\n",
        "!pip install numpy matplotlib seaborn scipy>=1.9 pandas networkx"
      ],
      "metadata": {
        "id": "34FSRTMzO1YI"
      },
      "execution_count": null,
      "outputs": []
    },
    {
      "cell_type": "code",
      "source": [
        "import numpy as np\n",
        "import pandas as pd\n",
        "import networkx as nx\n",
        "import seaborn as sns"
      ],
      "metadata": {
        "id": "7qgDgNBoaqFI"
      },
      "execution_count": null,
      "outputs": []
    },
    {
      "cell_type": "markdown",
      "source": [
        "## Partie 1 : Opérations Matricielle avec Numpy\n",
        "\n",
        "Lien vers le cheat sheet assez utile [ici](https://www.datacamp.com/cheat-sheet/numpy-cheat-sheet-data-analysis-in-python)."
      ],
      "metadata": {
        "id": "K1TQB2sca34D"
      }
    },
    {
      "cell_type": "markdown",
      "source": [
        "### Initialisation des matrices de manière aléatoire"
      ],
      "metadata": {
        "id": "Pspm2SCpbWrm"
      }
    },
    {
      "cell_type": "code",
      "source": [
        "# Matrice de 3 vecteurs de dimension 5\n",
        "A = np.random.random((3,5))\n",
        "A"
      ],
      "metadata": {
        "colab": {
          "base_uri": "https://localhost:8080/"
        },
        "id": "yaLA9Lf1a3M8",
        "outputId": "d7631319-64a8-4a68-ef43-9f691e636c5a"
      },
      "execution_count": null,
      "outputs": [
        {
          "output_type": "execute_result",
          "data": {
            "text/plain": [
              "array([[0.44370253, 0.07740316, 0.46725859, 0.27102626, 0.68942533],\n",
              "       [0.70054146, 0.85269374, 0.60416811, 0.33809713, 0.85504836],\n",
              "       [0.44774193, 0.93141446, 0.38017168, 0.77066373, 0.91960167]])"
            ]
          },
          "metadata": {},
          "execution_count": 4
        }
      ]
    },
    {
      "cell_type": "code",
      "source": [
        "# Matrice de 20 vecteurs de dimension 20\n",
        "B = np.random.random((20,5))\n",
        "B"
      ],
      "metadata": {
        "colab": {
          "base_uri": "https://localhost:8080/"
        },
        "id": "-O1cfevbbUAY",
        "outputId": "12162d07-6fad-44aa-ee2d-ba648a73b20b"
      },
      "execution_count": null,
      "outputs": [
        {
          "output_type": "execute_result",
          "data": {
            "text/plain": [
              "array([[3.29120074e-01, 1.07335717e-01, 3.82475697e-01, 1.89734021e-01,\n",
              "        2.86545971e-01],\n",
              "       [2.67110385e-01, 4.72415125e-02, 6.10459414e-01, 8.64717412e-01,\n",
              "        7.44595407e-01],\n",
              "       [2.61708119e-01, 8.59930854e-01, 3.72720753e-01, 6.02202283e-01,\n",
              "        9.05625028e-01],\n",
              "       [2.85157140e-01, 2.29210550e-02, 1.75357185e-01, 8.70837108e-01,\n",
              "        8.15364110e-01],\n",
              "       [1.86151346e-01, 4.96482966e-01, 8.38093189e-01, 4.38167702e-01,\n",
              "        7.58292358e-01],\n",
              "       [3.84002178e-01, 2.84756474e-01, 3.16516203e-01, 5.25740762e-01,\n",
              "        5.58311597e-01],\n",
              "       [9.22927094e-01, 8.46768004e-01, 4.63051364e-01, 1.95088630e-01,\n",
              "        2.99185206e-01],\n",
              "       [3.78116862e-01, 6.09165808e-01, 9.32999289e-01, 5.29585603e-01,\n",
              "        5.46308621e-01],\n",
              "       [8.88917204e-01, 6.65941436e-01, 2.12917972e-01, 6.35443303e-01,\n",
              "        1.31602099e-01],\n",
              "       [3.22704351e-01, 7.32585339e-01, 4.48472336e-01, 1.96425428e-01,\n",
              "        8.09173894e-01],\n",
              "       [7.97586879e-01, 2.65981376e-01, 7.94743456e-01, 6.79831926e-01,\n",
              "        1.62677307e-02],\n",
              "       [4.20127318e-02, 5.87820237e-02, 3.70508116e-01, 9.59857890e-01,\n",
              "        4.09650956e-01],\n",
              "       [2.35566770e-01, 8.15163633e-01, 4.92654688e-02, 2.79306566e-01,\n",
              "        6.14888486e-02],\n",
              "       [6.22827027e-01, 1.58446800e-01, 2.81594342e-01, 2.72466837e-01,\n",
              "        8.35163271e-01],\n",
              "       [7.16016282e-01, 5.13712039e-01, 6.62774803e-01, 9.07969409e-01,\n",
              "        2.48268350e-01],\n",
              "       [7.48998377e-01, 8.15842386e-01, 2.21529650e-02, 9.05313283e-01,\n",
              "        8.64121187e-01],\n",
              "       [8.50506387e-01, 9.08654978e-01, 1.93374417e-01, 9.23545459e-01,\n",
              "        1.58039719e-02],\n",
              "       [1.70244575e-01, 5.62961622e-01, 5.83943490e-01, 6.77142634e-01,\n",
              "        3.95580932e-01],\n",
              "       [9.41952805e-01, 2.05023452e-01, 9.97015703e-01, 7.55585061e-01,\n",
              "        8.45204014e-04],\n",
              "       [9.50884388e-01, 2.83907670e-01, 5.26759435e-01, 4.73194842e-01,\n",
              "        4.45129128e-01]])"
            ]
          },
          "metadata": {},
          "execution_count": 5
        }
      ]
    },
    {
      "cell_type": "code",
      "source": [
        "# Matrice de 20 vecteurs de dimension 20\n",
        "C = np.random.random((20,5))\n",
        "C"
      ],
      "metadata": {
        "colab": {
          "base_uri": "https://localhost:8080/"
        },
        "id": "Q26SuOuXdCJb",
        "outputId": "1b582b9b-d4f3-4c31-a509-b4c1c06b546a"
      },
      "execution_count": null,
      "outputs": [
        {
          "output_type": "execute_result",
          "data": {
            "text/plain": [
              "array([[0.39112358, 0.43842364, 0.10995999, 0.55673068, 0.24445489],\n",
              "       [0.9344845 , 0.30152402, 0.47793723, 0.24228248, 0.60010302],\n",
              "       [0.09710309, 0.16399856, 0.36235863, 0.4980772 , 0.36726801],\n",
              "       [0.62003495, 0.59528056, 0.94012882, 0.86346436, 0.75855949],\n",
              "       [0.97575749, 0.87650199, 0.3370646 , 0.69173973, 0.76976261],\n",
              "       [0.8834292 , 0.77732703, 0.82048759, 0.85689638, 0.70566314],\n",
              "       [0.90008901, 0.94729501, 0.42263529, 0.9567397 , 0.17265903],\n",
              "       [0.44348665, 0.95076631, 0.64486355, 0.56391904, 0.01355748],\n",
              "       [0.00768192, 0.80618116, 0.11719954, 0.94633937, 0.33921873],\n",
              "       [0.60428024, 0.62164006, 0.82267601, 0.5087441 , 0.46039834],\n",
              "       [0.47544845, 0.6408067 , 0.71331006, 0.06854924, 0.97346768],\n",
              "       [0.50843933, 0.74421445, 0.64635529, 0.58454464, 0.64619961],\n",
              "       [0.44839629, 0.54366702, 0.7752234 , 0.86267558, 0.83476345],\n",
              "       [0.71773827, 0.34783933, 0.19411821, 0.99900835, 0.8829518 ],\n",
              "       [0.34051764, 0.6314563 , 0.25750835, 0.97713448, 0.94916341],\n",
              "       [0.43730302, 0.56414553, 0.12360346, 0.16928458, 0.05970121],\n",
              "       [0.21330366, 0.07716905, 0.29962264, 0.31962422, 0.90648676],\n",
              "       [0.40715925, 0.51824024, 0.90992665, 0.76913655, 0.22313432],\n",
              "       [0.85726678, 0.9875892 , 0.64052256, 0.84790888, 0.76742116],\n",
              "       [0.80129008, 0.82548205, 0.25373529, 0.82104725, 0.36111101]])"
            ]
          },
          "metadata": {},
          "execution_count": 6
        }
      ]
    },
    {
      "cell_type": "markdown",
      "source": [
        "### Opérations de base"
      ],
      "metadata": {
        "id": "7ZLT7vn5bcIw"
      }
    },
    {
      "cell_type": "code",
      "source": [
        "print(B - C)#Soustraction terme à terme\n",
        "print(B + C)#Addition \n",
        "print(B / C)#Division terme à terme\n",
        "print(B * C)#Multiplication terme à terme\n",
        "print(A.dot(B.T))#Produit Matricielle de A et B transposée\n",
        "print(np.exp(A)) #Exponentiation\n",
        "print(np.sqrt(A))#Racine carré des eléments terme à terme\n",
        "print(np.cos(A))\n",
        "print(np.sin(A))\n",
        "print(np.log(A))"
      ],
      "metadata": {
        "colab": {
          "base_uri": "https://localhost:8080/"
        },
        "id": "nBOj87SIbVGv",
        "outputId": "bcfa86bc-2c39-46f9-bc24-d3330515bb9e"
      },
      "execution_count": null,
      "outputs": [
        {
          "output_type": "stream",
          "name": "stdout",
          "text": [
            "[[-0.0620035  -0.33108792  0.27251571 -0.36699666  0.04209108]\n",
            " [-0.66737412 -0.25428251  0.13252219  0.62243493  0.14449239]\n",
            " [ 0.16460503  0.6959323   0.01036212  0.10412509  0.53835702]\n",
            " [-0.33487781 -0.57235951 -0.76477163  0.00737275  0.05680462]\n",
            " [-0.78960614 -0.38001903  0.50102859 -0.25357203 -0.01147025]\n",
            " [-0.49942703 -0.49257055 -0.50397139 -0.33115562 -0.14735154]\n",
            " [ 0.02283809 -0.10052701  0.04041608 -0.76165107  0.12652617]\n",
            " [-0.06536979 -0.3416005   0.28813574 -0.03433344  0.53275114]\n",
            " [ 0.88123528 -0.14023973  0.09571844 -0.31089606 -0.20761663]\n",
            " [-0.28157589  0.11094528 -0.37420368 -0.31231868  0.34877555]\n",
            " [ 0.32213842 -0.37482533  0.0814334   0.61128268 -0.95719995]\n",
            " [-0.4664266  -0.68543243 -0.27584718  0.37531325 -0.23654866]\n",
            " [-0.21282952  0.27149662 -0.72595794 -0.58336902 -0.77327461]\n",
            " [-0.09491125 -0.18939253  0.08747613 -0.72654152 -0.04778853]\n",
            " [ 0.37549864 -0.11774426  0.40526645 -0.06916507 -0.70089506]\n",
            " [ 0.31169536  0.25169686 -0.1014505   0.7360287   0.80441998]\n",
            " [ 0.63720272  0.83148592 -0.10624823  0.60392124 -0.89068279]\n",
            " [-0.23691467  0.04472138 -0.32598316 -0.09199391  0.17244661]\n",
            " [ 0.08468602 -0.78256575  0.35649314 -0.09232382 -0.76657596]\n",
            " [ 0.14959431 -0.54157438  0.27302414 -0.34785241  0.08401812]]\n",
            "[[0.72024365 0.54575935 0.49243568 0.7464647  0.53100086]\n",
            " [1.20159489 0.34876553 1.08839664 1.1069999  1.34469842]\n",
            " [0.3588112  1.02392941 0.73507938 1.10027948 1.27289304]\n",
            " [0.90519209 0.61820162 1.115486   1.73430147 1.5739236 ]\n",
            " [1.16190883 1.37298496 1.17515779 1.12990744 1.52805497]\n",
            " [1.26743138 1.0620835  1.1370038  1.38263714 1.26397474]\n",
            " [1.8230161  1.79406302 0.88568665 1.15182833 0.47184424]\n",
            " [0.82160351 1.55993211 1.57786284 1.09350464 0.5598661 ]\n",
            " [0.89659913 1.4721226  0.33011751 1.58178267 0.47082083]\n",
            " [0.92698459 1.3542254  1.27114835 0.70516953 1.26957223]\n",
            " [1.27303533 0.90678808 1.50805351 0.74838117 0.98973541]\n",
            " [0.55045206 0.80299648 1.01686341 1.54440253 1.05585057]\n",
            " [0.68396306 1.35883065 0.82448887 1.14198215 0.8962523 ]\n",
            " [1.3405653  0.50628613 0.47571255 1.27147519 1.71811507]\n",
            " [1.05653392 1.14516834 0.92028316 1.88510389 1.19743176]\n",
            " [1.18630139 1.37998791 0.14575643 1.07459786 0.9238224 ]\n",
            " [1.06381005 0.98582403 0.49299706 1.24316968 0.92229073]\n",
            " [0.57740382 1.08120186 1.49387014 1.44627918 0.61871526]\n",
            " [1.79921959 1.19261266 1.63753827 1.60349394 0.76826636]\n",
            " [1.75217447 1.10938972 0.78049473 1.29424209 0.80624014]]\n",
            "[[8.41473369e-01 2.44821922e-01 3.47831702e+00 3.40800366e-01\n",
            "  1.17218344e+00]\n",
            " [2.85837149e-01 1.56675785e-01 1.27727948e+00 3.56904632e+00\n",
            "  1.24077931e+00]\n",
            " [2.69515759e+00 5.24352691e+00 1.02859632e+00 1.20905411e+00\n",
            "  2.46584240e+00]\n",
            " [4.59904948e-01 3.85046252e-02 1.86524636e-01 1.00853857e+00\n",
            "  1.07488485e+00]\n",
            " [1.90776242e-01 5.66436780e-01 2.48644678e+00 6.33428557e-01\n",
            "  9.85098972e-01]\n",
            " [4.34672270e-01 3.66327767e-01 3.85765983e-01 6.13540649e-01\n",
            "  7.91187132e-01]\n",
            " [1.02537314e+00 8.93879935e-01 1.09562873e+00 2.03909830e-01\n",
            "  1.73280945e+00]\n",
            " [8.52600319e-01 6.40710345e-01 1.44681661e+00 9.39116375e-01\n",
            "  4.02957236e+01]\n",
            " [1.15715472e+02 8.26044402e-01 1.81671345e+00 6.71475080e-01\n",
            "  3.87956464e-01]\n",
            " [5.34030951e-01 1.17847189e+00 5.45138460e-01 3.86098682e-01\n",
            "  1.75755172e+00]\n",
            " [1.67754648e+00 4.15072711e-01 1.11416269e+00 9.91742456e+00\n",
            "  1.67111153e-02]\n",
            " [8.26307672e-02 7.89853292e-02 5.73226706e-01 1.64206088e+00\n",
            "  6.33938720e-01]\n",
            " [5.25353972e-01 1.49938033e+00 6.35500276e-02 3.23767788e-01\n",
            "  7.36602068e-02]\n",
            " [8.67763433e-01 4.55517210e-01 1.45063331e+00 2.72737296e-01\n",
            "  9.45876400e-01]\n",
            " [2.10272891e+00 8.13535380e-01 2.57379925e+00 9.29216423e-01\n",
            "  2.61565445e-01]\n",
            " [1.71276746e+00 1.44615590e+00 1.79226089e-01 5.34787805e+00\n",
            "  1.44740987e+01]\n",
            " [3.98730325e+00 1.17748622e+01 6.45393198e-01 2.88947273e+00\n",
            "  1.74343108e-02]\n",
            " [4.18127740e-01 1.08629469e+00 6.41747872e-01 8.80393264e-01\n",
            "  1.77283765e+00]\n",
            " [1.09878607e+00 2.07599933e-01 1.55656609e+00 8.91115870e-01\n",
            "  1.10135615e-03]\n",
            " [1.18669182e+00 3.43929551e-01 2.07601959e+00 5.76330828e-01\n",
            "  1.23266561e+00]]\n",
            "[[1.28726621e-01 4.70585156e-02 4.20570229e-02 1.05630751e-01\n",
            "  7.00475629e-02]\n",
            " [2.49610515e-01 1.42444507e-02 2.91761280e-01 2.09505883e-01\n",
            "  4.46833949e-01]\n",
            " [2.54126659e-02 1.41027420e-01 1.35058581e-01 2.99943225e-01\n",
            "  3.32607100e-01]\n",
            " [1.76807392e-01 1.36444586e-02 1.64858343e-01 7.51936807e-01\n",
            "  6.18502187e-01]\n",
            " [1.81638570e-01 4.35168308e-01 2.82491545e-01 3.03098010e-01\n",
            "  5.83705106e-01]\n",
            " [3.39238739e-01 2.21348903e-01 2.59697618e-01 4.50505356e-01\n",
            "  3.93979915e-01]\n",
            " [8.30716533e-01 8.02139106e-01 1.95701846e-01 1.86649037e-01\n",
            "  5.16570289e-02]\n",
            " [1.67689781e-01 5.79174325e-01 6.01657231e-01 2.98643404e-01\n",
            "  7.40657029e-03]\n",
            " [6.82859245e-03 5.36869441e-01 2.49538873e-02 6.01345013e-01\n",
            "  4.46418970e-02]\n",
            " [1.95003862e-01 4.55404394e-01 3.68947434e-01 9.99302786e-02\n",
            "  3.72542318e-01]\n",
            " [3.79211449e-01 1.70442649e-01 5.66898501e-01 4.66019625e-02\n",
            "  1.58361101e-02]\n",
            " [2.13609251e-02 4.37464317e-02 2.39479882e-01 5.61079786e-01\n",
            "  2.64716289e-01]\n",
            " [1.05627265e-01 4.43177581e-01 3.81917444e-02 2.40950955e-01\n",
            "  5.13286436e-02]\n",
            " [4.47026794e-01 5.51140284e-02 5.46625895e-02 2.72196646e-01\n",
            "  7.37408914e-01]\n",
            " [2.43816173e-01 3.24386702e-01 1.70670048e-01 8.87208220e-01\n",
            "  2.35647235e-01]\n",
            " [3.27539249e-01 4.60253834e-01 2.73818315e-03 1.53255578e-01\n",
            "  5.15890794e-02]\n",
            " [1.81416127e-01 7.01200450e-02 5.79393541e-02 2.95187494e-01\n",
            "  1.43260913e-02]\n",
            " [6.93166529e-02 2.91749367e-01 5.31345741e-01 5.20815147e-01\n",
            "  8.82676838e-02]\n",
            " [8.07504852e-01 2.02478948e-01 6.38611054e-01 6.40667284e-01\n",
            "  6.48627445e-04]\n",
            " [7.61934231e-01 2.34360685e-01 1.33657458e-01 3.88515324e-01\n",
            "  1.60741030e-01]]\n",
            "[[0.58202954 1.15512067 1.14441236 1.00838866 1.15417233 0.86772241\n",
            "  0.95055233 1.17104531 0.80840018 1.02054314 0.94129751 0.73888461\n",
            "  0.30872891 1.06981997 1.08439443 1.24694312 0.79926119 0.84821252\n",
            "  1.10504656 1.12514956]\n",
            " [0.86232556 1.52524811 2.1197371  1.31685753 1.85662371 1.35818336\n",
            "  1.97012006 1.99417849 1.64657341 1.87998508 1.5094609  0.97820049\n",
            "  1.03688253 1.54777831 1.85932883 2.27870145 1.81321128 1.51927808\n",
            "  1.69324813 1.76706423]\n",
            " [0.80247061 1.74681485 2.35673735 1.63662442 1.89940534 1.47608428\n",
            "  1.80344308 2.00190326 1.70995299 1.89282095 1.44587258 1.33086135\n",
            "  1.15525434 1.51149746 1.97908462 2.5960067  2.02693358 1.70820116\n",
            "  1.57482996 1.66446113]]\n",
            "[[1.55846682 1.08047759 1.59561396 1.3113095  1.99257014]\n",
            " [2.01484336 2.34595775 1.82972945 1.4022767  2.3514881 ]\n",
            " [1.56477482 2.53809668 1.46253565 2.16120023 2.50829107]]\n",
            "[[0.66611    0.27821423 0.68356316 0.52060182 0.83031641]\n",
            " [0.83698355 0.92341418 0.77728252 0.5814612  0.92468825]\n",
            " [0.66913521 0.96509816 0.61658063 0.87787455 0.95895864]]\n",
            "[[0.90316841 0.99700587 0.89280648 0.96349665 0.77161168]\n",
            " [0.76449326 0.657957   0.82297496 0.94338754 0.65618202]\n",
            " [0.90142699 0.59669952 0.92860094 0.71744847 0.60613702]]\n",
            "[[0.42928641 0.07732589 0.45044044 0.26772037 0.63609387]\n",
            " [0.64463172 0.7530555  0.56807765 0.33169255 0.75460265]\n",
            " [0.43293116 0.80246475 0.37107989 0.69661158 0.79536024]]\n",
            "[[-0.81260092 -2.55872771 -0.76087244 -1.30553957 -0.37189688]\n",
            " [-0.35590174 -0.15935483 -0.50390279 -1.08442206 -0.15659725]\n",
            " [-0.80353826 -0.07105092 -0.96713235 -0.26050315 -0.08381467]]\n"
          ]
        }
      ]
    },
    {
      "cell_type": "markdown",
      "source": [
        "### Similarité cosinus entre des vecteurs contenus dans des matrices\n",
        "Soit $\\mathbf{X}, \\mathbf{Y} \\in \\mathbb{R}^n$ deux vecteurs de dimension $n \\in \\mathbb{N}$. On définit la similarité cosinus entre ces deux vecteurs ainsi : \n",
        "$$\\text{CosineSimilarity(X, Y)}=\\cos(\\theta )={\\mathbf {X} \\cdot \\mathbf {Y}  \\over \\|\\mathbf {X} \\|_2\\|\\mathbf {Y} \\|_2}={\\frac {\\sum \\limits _{i=1}^{n}{X_{i}Y_{i}}}{{\\sqrt {\\sum \\limits _{i=1}^{n}{X_{i}^{2}}}}{\\sqrt {\\sum \\limits _{i=1}^{n}{Y_{i}^{2}}}}}}$$"
      ],
      "metadata": {
        "id": "Kr5BT86ycmHd"
      }
    },
    {
      "cell_type": "code",
      "source": [
        "# Pour un élément de A et de B on obtient la similarité cosinus suivante \n",
        "np.dot(A[0], B[0]) / (np.linalg.norm(A[0]) * np.linalg.norm(B[0]))"
      ],
      "metadata": {
        "colab": {
          "base_uri": "https://localhost:8080/"
        },
        "id": "cVxlmKrXcqdc",
        "outputId": "e9588dcb-1871-423f-c35f-8a8aab6b0115"
      },
      "execution_count": null,
      "outputs": [
        {
          "output_type": "execute_result",
          "data": {
            "text/plain": [
              "0.9533882346423793"
            ]
          },
          "metadata": {},
          "execution_count": 8
        }
      ]
    },
    {
      "cell_type": "markdown",
      "source": [
        "En utilisant simplement les opérations matricielles, calculer la similarité cosinus entre tous les vecteurs de A et de B. Vous pouvez vous aider des élements déjà présents dans la cellule et de la documentation de [np.expand_dims](https://numpy.org/doc/stable/reference/generated/numpy.expand_dims.html). Assurez vous que le résultat obtenu correspond au résultat précédent 😉."
      ],
      "metadata": {
        "id": "nG9fLXgcgtoO"
      }
    },
    {
      "cell_type": "code",
      "source": [
        "# Matrice colonne des normes de chacuns des vecteurs de A\n",
        "col_norm_A = np.linalg.norm(A, axis=-1)[:, None]\n",
        "\n",
        "# Matrice ligne des normes de chacuns des vecteurs de B\n",
        "col_norm_B = np.expand_dims(np.linalg.norm(B, axis=-1), axis=0)\n",
        "\n",
        "print(col_norm_A.shape)\n",
        "print(col_norm_B.shape)\n",
        "print(np.dot(A, B.T))"
      ],
      "metadata": {
        "colab": {
          "base_uri": "https://localhost:8080/"
        },
        "id": "U_SCY8SGg7Ds",
        "outputId": "bfb5f86e-4da2-41af-a0b8-cf8ae546ffc5"
      },
      "execution_count": null,
      "outputs": [
        {
          "output_type": "stream",
          "name": "stdout",
          "text": [
            "(3, 1)\n",
            "(1, 20)\n",
            "[[0.58202954 1.15512067 1.14441236 1.00838866 1.15417233 0.86772241\n",
            "  0.95055233 1.17104531 0.80840018 1.02054314 0.94129751 0.73888461\n",
            "  0.30872891 1.06981997 1.08439443 1.24694312 0.79926119 0.84821252\n",
            "  1.10504656 1.12514956]\n",
            " [0.86232556 1.52524811 2.1197371  1.31685753 1.85662371 1.35818336\n",
            "  1.97012006 1.99417849 1.64657341 1.87998508 1.5094609  0.97820049\n",
            "  1.03688253 1.54777831 1.85932883 2.27870145 1.81321128 1.51927808\n",
            "  1.69324813 1.76706423]\n",
            " [0.80247061 1.74681485 2.35673735 1.63662442 1.89940534 1.47608428\n",
            "  1.80344308 2.00190326 1.70995299 1.89282095 1.44587258 1.33086135\n",
            "  1.15525434 1.51149746 1.97908462 2.5960067  2.02693358 1.70820116\n",
            "  1.57482996 1.66446113]]\n"
          ]
        }
      ]
    },
    {
      "cell_type": "markdown",
      "source": [
        "#### **Solution**"
      ],
      "metadata": {
        "id": "cmn3FsD_KifO"
      }
    },
    {
      "cell_type": "code",
      "source": [
        "cos_sim = np.dot(A, B.T) / np.dot(col_norm_A, col_norm_B)\n",
        "cos_sim"
      ],
      "metadata": {
        "colab": {
          "base_uri": "https://localhost:8080/"
        },
        "id": "htVHyoFAKiuY",
        "outputId": "b88b982e-629b-4ab8-bb85-3b606de6e27b"
      },
      "execution_count": null,
      "outputs": [
        {
          "output_type": "execute_result",
          "data": {
            "text/plain": [
              "array([[0.95338823, 0.88701508, 0.79624647, 0.8262079 , 0.88574315,\n",
              "        0.92014776, 0.69822037, 0.84856851, 0.62952641, 0.83629552,\n",
              "        0.71219792, 0.67601922, 0.34955717, 0.96616759, 0.75946129,\n",
              "        0.7575392 , 0.51958165, 0.75481214, 0.71045025, 0.88028379],\n",
              "       [0.89273507, 0.74023688, 0.93212371, 0.68190952, 0.90050807,\n",
              "        0.9102522 , 0.91460959, 0.91327973, 0.81039216, 0.9736646 ,\n",
              "        0.7218089 , 0.56563578, 0.74198828, 0.88344008, 0.82300247,\n",
              "        0.87492831, 0.7449722 , 0.85447241, 0.68801875, 0.8737584 ],\n",
              "       [0.79493734, 0.81120296, 0.99164258, 0.8109413 , 0.88152331,\n",
              "        0.94660091, 0.80112065, 0.87727409, 0.80528708, 0.93803045,\n",
              "        0.66158068, 0.73636686, 0.79103833, 0.82552112, 0.83822716,\n",
              "        0.95376916, 0.79686289, 0.91928932, 0.61230213, 0.78752639]])"
            ]
          },
          "metadata": {},
          "execution_count": 10
        }
      ]
    },
    {
      "cell_type": "code",
      "source": [
        "## Verif\n",
        "cos_sim[0,0]"
      ],
      "metadata": {
        "colab": {
          "base_uri": "https://localhost:8080/"
        },
        "id": "MKKHFYR3Kvsx",
        "outputId": "686d8ca4-b751-4f68-9696-e12fe95e84fd"
      },
      "execution_count": null,
      "outputs": [
        {
          "output_type": "execute_result",
          "data": {
            "text/plain": [
              "0.9533882346423793"
            ]
          },
          "metadata": {},
          "execution_count": 11
        }
      ]
    },
    {
      "cell_type": "markdown",
      "source": [
        "## Partie 2 : Validation Croisée"
      ],
      "metadata": {
        "id": "ollBlZAtiXtF"
      }
    },
    {
      "cell_type": "markdown",
      "source": [
        "Comment battre aléatoirement les données sans faire plusieurs copies de notre base de données."
      ],
      "metadata": {
        "id": "mPA6oxPjlCpB"
      }
    },
    {
      "cell_type": "code",
      "source": [
        "# C est notre matrice de données 20x5\n",
        "C\n",
        "\n",
        "# Création d'une liste d'indice d'éléments dans C\n",
        "idx = np.arange(C.shape[0])\n",
        "print(idx)\n",
        "\n",
        "# Mélange des indices sans modifier idx\n",
        "shuffled_idx = idx[np.random.permutation(len(idx))]\n",
        "print(shuffled_idx)\n",
        "\n",
        "# Mélange des indices en modifiant idx\n",
        "np.random.shuffle(idx)\n",
        "print(idx)"
      ],
      "metadata": {
        "colab": {
          "base_uri": "https://localhost:8080/"
        },
        "id": "JNbofdlKivo5",
        "outputId": "dbbe4bff-b119-425c-b9e6-8468ee072f5e"
      },
      "execution_count": null,
      "outputs": [
        {
          "output_type": "stream",
          "name": "stdout",
          "text": [
            "[ 0  1  2  3  4  5  6  7  8  9 10 11 12 13 14 15 16 17 18 19]\n",
            "[ 8 16  2 17  0  3  4 19 13  6  7 18  9  1 11 15 14  5 12 10]\n",
            "[ 8 16  9  6 14 13 12 19  2 17  1 11 10  5  4 15  7  0 18  3]\n"
          ]
        }
      ]
    },
    {
      "cell_type": "code",
      "source": [
        "# Séparation de nos données en ensemble d'entrainement et de test\n",
        "\n",
        "nbre_replis = 3\n",
        "test_size   = int(len(C) / nbre_replis)\n",
        "train_size  = len(C) - test_size\n",
        "\n",
        "shuffled_idx = np.random.permutation(len(C))\n",
        "idx_train = shuffled_idx[:train_size]\n",
        "idx_test = shuffled_idx[train_size:]\n",
        "\n",
        "C_train = C[idx_train]\n",
        "C_test = C[idx_test]\n",
        "print(C_train.shape, \"\\n\", C_test.shape)"
      ],
      "metadata": {
        "colab": {
          "base_uri": "https://localhost:8080/"
        },
        "id": "z32xai1sj1dg",
        "outputId": "fd5d8d00-6b53-40fa-f826-d16ef88d2bbc"
      },
      "execution_count": null,
      "outputs": [
        {
          "output_type": "stream",
          "name": "stdout",
          "text": [
            "(14, 5) \n",
            " (6, 5)\n"
          ]
        }
      ]
    },
    {
      "cell_type": "markdown",
      "source": [
        "Calculer la moyenne de l'ensemble d'entrainement en effectuant une Leave-one-out validation croisée à 5 replis. \n",
        "#### **Solution**"
      ],
      "metadata": {
        "id": "gwtbSc6unT9m"
      }
    },
    {
      "cell_type": "code",
      "source": [
        "# Validation croisée Leave-one-out à 5 replis\n",
        "nbre_replis = 5\n",
        "\n",
        "idx = np.arange(C.shape[0])\n",
        "np.random.shuffle(idx)\n",
        "print(idx)\n",
        "idx_split = np.split(idx, nbre_replis)\n",
        "\n",
        "for i in range(nbre_replis):\n",
        "    idx_train = np.delete(idx_split, i, axis=0).flatten()#np.array([x for j,x in enumerate(idx_split) if i!=j]).flatten()\n",
        "    idx_test  = idx_split[i]\n",
        "    print(idx_train)\n",
        "    print(idx_test)\n",
        "\n",
        "    C_train = C[idx_train]\n",
        "    C_test  = C[idx_test]\n",
        "    print(C_train.shape, \"\\n\", C_test.shape)"
      ],
      "metadata": {
        "id": "-jRdEd1NnaBL",
        "colab": {
          "base_uri": "https://localhost:8080/"
        },
        "outputId": "bbb61a50-249f-42f0-9b44-8f849854e660"
      },
      "execution_count": null,
      "outputs": [
        {
          "output_type": "stream",
          "name": "stdout",
          "text": [
            "[16  2 14 13 15  1  3 12  9  8  7  6 17 11 19 18  0  4 10  5]\n",
            "[15  1  3 12  9  8  7  6 17 11 19 18  0  4 10  5]\n",
            "[16  2 14 13]\n",
            "(16, 5) \n",
            " (4, 5)\n",
            "[16  2 14 13  9  8  7  6 17 11 19 18  0  4 10  5]\n",
            "[15  1  3 12]\n",
            "(16, 5) \n",
            " (4, 5)\n",
            "[16  2 14 13 15  1  3 12 17 11 19 18  0  4 10  5]\n",
            "[9 8 7 6]\n",
            "(16, 5) \n",
            " (4, 5)\n",
            "[16  2 14 13 15  1  3 12  9  8  7  6  0  4 10  5]\n",
            "[17 11 19 18]\n",
            "(16, 5) \n",
            " (4, 5)\n",
            "[16  2 14 13 15  1  3 12  9  8  7  6 17 11 19 18]\n",
            "[ 0  4 10  5]\n",
            "(16, 5) \n",
            " (4, 5)\n"
          ]
        }
      ]
    },
    {
      "cell_type": "markdown",
      "source": [
        "## Partie 3 : Networkx \n",
        "En vous inspirant de l'introduction de NetworkX accessible [ici](https://networkx.org/documentation/stable/tutorial.html) : \n",
        "- créer un graph non orienté\n",
        "- ajouter lui des sommets et des arrêtes\n",
        "- calculer le nombre de composantes connexes\n",
        "- afficher la matrice d'adjacence\n",
        "- calculer le plus court chemin entre deux points de votre graphe\n",
        "- enfin, afficher votre graphe"
      ],
      "metadata": {
        "id": "4X2B9eVQn2yI"
      }
    },
    {
      "cell_type": "markdown",
      "source": [
        "#### **Solution**"
      ],
      "metadata": {
        "id": "-j5dQh33K57g"
      }
    },
    {
      "cell_type": "code",
      "source": [
        "## Create Simple Graph\n",
        "G = nx.Graph()\n",
        "G.add_nodes_from([1, 2, 3, 4])\n",
        "G.add_edges_from([(1, 2), (1, 3), (1, 4)])"
      ],
      "metadata": {
        "id": "RrhvzC2DpBhy"
      },
      "execution_count": null,
      "outputs": []
    },
    {
      "cell_type": "code",
      "source": [
        "print(\"Number of connected components in graph: \", nx.number_connected_components(G))\n",
        "print(\"Shortest path between 1 and 3: \",  nx.shortest_path(G, 1, 3))"
      ],
      "metadata": {
        "colab": {
          "base_uri": "https://localhost:8080/"
        },
        "id": "fGghpnn2LBOJ",
        "outputId": "c8f228f5-e083-4f30-9312-14e114decffc"
      },
      "execution_count": null,
      "outputs": [
        {
          "output_type": "stream",
          "name": "stdout",
          "text": [
            "Number of connected components in graph:  1\n",
            "Shortest path between 1 and 3:  [1, 3]\n"
          ]
        }
      ]
    },
    {
      "cell_type": "code",
      "source": [
        "## Adjacency Matrix\n",
        "nx.adjacency_matrix(G)"
      ],
      "metadata": {
        "id": "EbZ-a0MQLgTC"
      },
      "execution_count": null,
      "outputs": []
    },
    {
      "cell_type": "code",
      "source": [
        "## Draw Graph\n",
        "nx.draw(G)"
      ],
      "metadata": {
        "colab": {
          "base_uri": "https://localhost:8080/",
          "height": 319
        },
        "id": "tu9Meiz5LoWK",
        "outputId": "b9e103c1-82c5-4de0-97e9-f3ea82176e47"
      },
      "execution_count": null,
      "outputs": [
        {
          "output_type": "display_data",
          "data": {
            "text/plain": [
              "<Figure size 432x288 with 1 Axes>"
            ],
            "image/png": "[encoded data removed]"
          },
          "metadata": {}
        }
      ]
    },
    {
      "cell_type": "markdown",
      "source": [
        "## Partie 4 : Seaborn\n",
        "Vous pouvez afficher des données avec Seaborn assez facilement en quelques ligne ! C'est une librairie qui se base sur matplotlib et qui est super esthétique. Voici un [lien](https://seaborn.pydata.org/tutorial/introduction.html) vers une introduction à seaborn qui est bien faite. Et voici des exemples d'utilisations multiples de seaborn que vous trouverez [ici](https://seaborn.pydata.org/examples/index.html)."
      ],
      "metadata": {
        "id": "J2oPAw8HBnWW"
      }
    },
    {
      "cell_type": "code",
      "source": [
        "## Un example d'utilisation sur la base de données `Anscombe`\n",
        "sns.set_theme(style=\"ticks\")\n",
        "\n",
        "# Load the example dataset for Anscombe's quartet\n",
        "df = sns.load_dataset(\"anscombe\")\n",
        "\n",
        "# Show the results of a linear regression within each dataset\n",
        "sns.lmplot(\n",
        "    data=df, x=\"x\", y=\"y\", col=\"dataset\", hue=\"dataset\",\n",
        "    col_wrap=2, palette=\"muted\", ci=None,\n",
        "    height=4, scatter_kws={\"s\": 50, \"alpha\": 1}\n",
        ")"
      ],
      "metadata": {
        "colab": {
          "base_uri": "https://localhost:8080/",
          "height": 598
        },
        "id": "CC8wYUmTBplv",
        "outputId": "6462dc7a-e8ac-4843-80c0-5a38be651de0"
      },
      "execution_count": null,
      "outputs": [
        {
          "output_type": "execute_result",
          "data": {
            "text/plain": [
              "<seaborn.axisgrid.FacetGrid at 0x7fa61c3e7af0>"
            ]
          },
          "metadata": {},
          "execution_count": 34
        },
        {
          "output_type": "display_data",
          "data": {
            "text/plain": [
              "<Figure size 576x576 with 4 Axes>"
            ],
            "image/png": "[encoded data removed]"
          },
          "metadata": {}
        }
      ]
    }
  ]
}