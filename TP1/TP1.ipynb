{
 "cells": [
  {
   "cell_type": "markdown",
   "metadata": {},
   "source": [
    "# TP1 -- Approches collaboratives : utilisateur-utilisateur, item-item, et agglomérative\n",
    "\n",
    "Le travail doit être fait en **équipe de deux**. Vous trouverez l'énoncé du TP1 [ici](https://cours.polymtl.ca/MDesmarais/log6308/Tp/20231/tp1.html). <br>\n",
    "*Mettez vos noms et vos matricules ici.*"
   ]
  },
  {
   "cell_type": "code",
   "execution_count": 1,
   "metadata": {},
   "outputs": [],
   "source": [
    "import numpy as np\n",
    "import pandas as pd \n",
    "import seaborn as sns"
   ]
  },
  {
   "cell_type": "markdown",
   "metadata": {},
   "source": [
    "#### Charger les Données"
   ]
  },
  {
   "cell_type": "code",
   "execution_count": null,
   "metadata": {},
   "outputs": [],
   "source": [
    "# items \n",
    "items = pd.read_csv('Data/...', sep='|')\n",
    "# users\n",
    "user = pd.read_csv('Data/...', sep='|')\n",
    "# votes\n",
    "votes = pd.read_csv('Data/...', sep='|')"
   ]
  },
  {
   "cell_type": "code",
   "execution_count": null,
   "metadata": {},
   "outputs": [],
   "source": [
    "## Matrice Utilisateur Item\n",
    "MUI = votes.pivot(index=\"?\", columns=\"?\", values=\"?\")"
   ]
  },
  {
   "cell_type": "markdown",
   "metadata": {},
   "source": [
    "## Question 1 - Méthodes de Base"
   ]
  },
  {
   "cell_type": "code",
   "execution_count": null,
   "metadata": {},
   "outputs": [],
   "source": []
  },
  {
   "cell_type": "markdown",
   "metadata": {},
   "source": [
    "## Question 2 - Filtres Collaboratifs"
   ]
  },
  {
   "cell_type": "code",
   "execution_count": null,
   "metadata": {},
   "outputs": [],
   "source": []
  }
 ],
 "metadata": {
  "interpreter": {
   "hash": "66befc373c9148fff75f5d0bd6c9fa3931c2bc3dd4cc8bea8360c4a1f9ef5ddb"
  },
  "kernelspec": {
   "display_name": "Python 3.9.5 ('envtp1': venv)",
   "language": "python",
   "name": "python3"
  },
  "language_info": {
   "codemirror_mode": {
    "name": "ipython",
    "version": 3
   },
   "file_extension": ".py",
   "mimetype": "text/x-python",
   "name": "python",
   "nbconvert_exporter": "python",
   "pygments_lexer": "ipython3",
   "version": "3.9.5"
  },
  "orig_nbformat": 4
 },
 "nbformat": 4,
 "nbformat_minor": 2
}
